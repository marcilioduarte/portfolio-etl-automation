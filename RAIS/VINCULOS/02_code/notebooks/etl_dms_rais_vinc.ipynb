{
 "cells": [
  {
   "attachments": {},
   "cell_type": "markdown",
   "metadata": {},
   "source": [
    "**O QUE ESSE CÓDIGO FAZ?**\n",
    "\n",
    "Esse código lê o dicionário que construímos da tabela (01_doc\\dicionario_rais_vinc_sebrae.xlsx) e importa as abas de dimensão pro MongoDB e para o PostgreSQL no Dbeaver.\n",
    "\n",
    "OBS: o código só precisará ser rodado novamente se houver mudança no layout da tabela (ex: acréscimo de colunas/categorias). "
   ]
  },
  {
   "attachments": {},
   "cell_type": "markdown",
   "metadata": {},
   "source": [
    "# **1. IMPORTANDO LIBS** "
   ]
  },
  {
   "cell_type": "code",
   "execution_count": 1,
   "metadata": {},
   "outputs": [],
   "source": [
    "from datetime import datetime\n",
    "from datetime import date\n",
    "import json\n",
    "import pandas as pd\n",
    "import psycopg2\n",
    "import pymongo as p\n"
   ]
  },
  {
   "attachments": {},
   "cell_type": "markdown",
   "metadata": {},
   "source": [
    "# **2. CRIANDO FUNÇÕES** "
   ]
  },
  {
   "cell_type": "code",
   "execution_count": null,
   "metadata": {},
   "outputs": [],
   "source": [
    "def load_config(file_path=r'..\\config.json'):\n",
    "    with open(file_path, 'r') as file:\n",
    "        config = json.load(file)\n",
    "    return config"
   ]
  },
  {
   "cell_type": "code",
   "execution_count": null,
   "metadata": {},
   "outputs": [],
   "source": [
    "# Função para fazer upload no mongodb seguindo o padrão das demais funções do tipo que já utilizamos\n",
    "\n",
    "def upload_mongodb(df, arquivo):\n",
    "\n",
    "    config = load_config()\n",
    "    \n",
    "    print(\"------- Conectando com o mongodb ------------------\")     \n",
    "    \n",
    "\n",
    "    client = p.MongoClient(f\"f\"mongodb://{config['mongodb']['user_name']}:{config['mongodb']['password']}@{config['mongodb']['host']}:{config['mongodb']['port']}/{config['mongodb']['db_name']}\")\n",
    "    db = client.SEBRAE\n",
    "    type(client)\n",
    "\n",
    "    print(client.list_database_names())\n",
    "    print(\"------- Carregando os dados para o mongodb ------------------\")    \n",
    "    print(f\"Lendo o  arquivo: {arquivo} e convertendo para dict pandas...\\n\")\n",
    "    data = df.to_dict(orient=\"records\")\n",
    "    db = client[\"SEBRAE\"]\n",
    "    col = db[arquivo]\n",
    "\n",
    "    print(\"\\nIniciando a gravação no mongodb...\\n \")\n",
    "    col.insert_many(data)\n",
    "    print(f\"{arquivo} gravado com sucesso!\")\n",
    "    print(\"\\n------- fim  da carga dos dados para o mongodb ------------------\\n\")       \n"
   ]
  },
  {
   "cell_type": "code",
   "execution_count": null,
   "metadata": {},
   "outputs": [],
   "source": [
    "def transfer_to_postgres(data, collection_name):\n",
    "    print(\"------- Conectando com o PostgreSQL ------------------\")     \n",
    "\n",
    "    config = load_config()\n",
    "\n",
    "    # Conectando ao PostgreSQL\n",
    "    conn = psycopg2.connect(\n",
    "        host=config['postgresql']['pg_host'],\n",
    "        port=config['postgresql']['pg_port'],\n",
    "        dbname=config['postgresql']['pg_db_name'],\n",
    "        user=config['postgresql']['pg_user'],\n",
    "        password=config['postgresql']['pg_password']\n",
    "    )\n",
    "\n",
    "    # Criando um cursor\n",
    "    cur = conn.cursor()\n",
    "\n",
    "    # Verificando se a tabela existe\n",
    "    cur.execute(f\"SELECT to_regclass('stg_rais.{collection_name}');\")\n",
    "    table_exists = cur.fetchone()[0]\n",
    "\n",
    "    # Se a tabela não existir, criamos ela\n",
    "    if not table_exists:\n",
    "        print(f\"A tabela {collection_name} não existe, criando...\")\n",
    "        \n",
    "        # Obtendo os nomes das colunas da collection do MongoDB\n",
    "        columns = data[0].keys()\n",
    "        \n",
    "        # Determinando o tipo de cada coluna\n",
    "        column_types = []\n",
    "        for column in columns:\n",
    "            unique_values = set(record[column] for record in data)\n",
    "            max_length = max(len(str(value)) for value in unique_values)\n",
    "            if isinstance(data[0][column], int):\n",
    "                if max(record[column] for record in data) < 32767:  # smallint range\n",
    "                    column_types.append(f\"{column} smallint\")\n",
    "                elif max(record[column] for record in data) < 2147483647:  # int range\n",
    "                    column_types.append(f\"{column} int\")\n",
    "                else:\n",
    "                    column_types.append(f\"{column} bigint\")\n",
    "            else:\n",
    "                column_types.append(f\"{column} varchar({max_length})\")\n",
    "        \n",
    "        # Criando a tabela no PostgreSQL com as mesmas colunas\n",
    "        columns_query = \", \".join(column_types)\n",
    "        create_table_query = f\"CREATE TABLE stg_rais.{collection_name} ({columns_query});\"\n",
    "        cur.execute(create_table_query)\n",
    "\n",
    "    # Inserindo os dados na tabela\n",
    "    print(\"------- Transferindo os dados para o PostgreSQL ------------------\")  \n",
    "    for record in data:\n",
    "        columns = ', '.join(record.keys())\n",
    "        placeholders = ', '.join(['%s'] * len(record))\n",
    "        insert_query = f\"INSERT INTO stg_rais.{collection_name} ({columns}) VALUES ({placeholders})\"\n",
    "        cur.execute(insert_query, list(record.values()))\n",
    "\n",
    "    # Commit das alterações e fechamento da conexão\n",
    "    conn.commit()\n",
    "    cur.close()\n",
    "    conn.close()\n",
    "\n",
    "    print(f\"{collection_name} transferido com sucesso!\")\n"
   ]
  },
  {
   "attachments": {},
   "cell_type": "markdown",
   "metadata": {},
   "source": [
    "# **3. EXECUTANDO**"
   ]
  },
  {
   "attachments": {},
   "cell_type": "markdown",
   "metadata": {},
   "source": [
    "## **3.1 DEFININDO CAMINHO DA PLANILHA DO DICIONÁRIO, LENDO ELA E IMPRIMINDO LISTA COM AS ABAS EXISTENTES** "
   ]
  },
  {
   "cell_type": "code",
   "execution_count": null,
   "metadata": {},
   "outputs": [],
   "source": [
    "# Definindo caminho e imprimindo uma lista com todas as sheets da planilha\n",
    "ds_owner = input('Insira seu nome e sobrenome (Ex: Marcilio Duarte)')\n",
    "path = input('Insira o caminho do arquivo excel onde estão as dimensões/tabelas (dicionário): ')\n",
    "xls = pd.ExcelFile(path)\n"
   ]
  },
  {
   "cell_type": "code",
   "execution_count": null,
   "metadata": {},
   "outputs": [],
   "source": [
    "sheets = xls.sheet_names[1:-17]\n",
    "print(sheets)"
   ]
  },
  {
   "attachments": {},
   "cell_type": "markdown",
   "metadata": {},
   "source": [
    "## **3.2 RODANDO** "
   ]
  },
  {
   "cell_type": "code",
   "execution_count": null,
   "metadata": {},
   "outputs": [],
   "source": [
    "for i in sheets:\n",
    "    df = pd.read_excel(path, sheet_name=i)\n",
    "    df['curr_date'] = str(date.today())\n",
    "    df['ds_owner'] = ds_owner\n",
    "    for col in df.columns:\n",
    "        df[col] = df[col].apply(lambda x: x.strip() if isinstance(x, str) else x)\n",
    "    coll_name = str.upper('tb_rais_vinc'+i[2:])\n",
    "    upload_mongodb(df=df, arquivo=coll_name)\n",
    "    # Suponha que df seja o seu DataFrame\n",
    "    df = df.to_dict('records')\n",
    "    transfer_to_postgres(data=df, collection_name=coll_name)"
   ]
  }
 ],
 "metadata": {
  "kernelspec": {
   "display_name": ".venv",
   "language": "python",
   "name": "python3"
  },
  "language_info": {
   "codemirror_mode": {
    "name": "ipython",
    "version": 3
   },
   "file_extension": ".py",
   "mimetype": "text/x-python",
   "name": "python",
   "nbconvert_exporter": "python",
   "pygments_lexer": "ipython3",
   "version": "3.9.13"
  },
  "orig_nbformat": 4
 },
 "nbformat": 4,
 "nbformat_minor": 2
}
